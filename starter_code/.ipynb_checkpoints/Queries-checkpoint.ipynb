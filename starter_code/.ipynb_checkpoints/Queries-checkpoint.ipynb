{
 "cells": [
  {
   "cell_type": "markdown",
   "metadata": {},
   "source": [
    "# Answers"
   ]
  },
  {
   "cell_type": "code",
   "execution_count": 4,
   "metadata": {},
   "outputs": [],
   "source": [
    "import pymongo\n",
    "import re\n",
    "MongoClient = pymongo.MongoClient\n",
    "client = MongoClient()\n",
    "db = client.companies"
   ]
  },
  {
   "cell_type": "markdown",
   "metadata": {},
   "source": [
    "### 1. All the companies that it's name match 'Babelgum'. Retrieve only their `name` field."
   ]
  },
  {
   "cell_type": "code",
   "execution_count": 5,
   "metadata": {},
   "outputs": [
    {
     "name": "stdout",
     "output_type": "stream",
     "text": [
      "['Babelgum']\n"
     ]
    }
   ],
   "source": [
    "cursor1 = db.companies.find({\"name\":\"Babelgum\"})\n",
    "print(list(map(lambda r: r[\"name\"],list(cursor1))))"
   ]
  },
  {
   "cell_type": "markdown",
   "metadata": {},
   "source": [
    "### 2. All the companies that have more than 5000 employees. Limit the search to 20 companies and sort them by **number of employees**."
   ]
  },
  {
   "cell_type": "code",
   "execution_count": 53,
   "metadata": {},
   "outputs": [
    {
     "name": "stdout",
     "output_type": "stream",
     "text": [
      "['Siemens', 'IBM', 'Toyota', 'PayPal', 'Nippon Telegraph and Telephone Corporation', 'Samsung Electronics', 'Accenture', 'Tata Consultancy Services', 'Flextronics International', 'Safeway', 'Sony', 'LG', 'Ford', 'Boeing', 'Digital Equipment Corporation', 'Nokia', 'MItsubishi Electric', 'MItsubishi Electric', 'Comcast', 'Bertelsmann']\n"
     ]
    }
   ],
   "source": [
    "cursor2 = db.companies.find({\"number_of_employees\": {\"$gt\": 5000}}).sort(\"number_of_employees\", pymongo.DESCENDING).limit(20)\n",
    "print(list(map(lambda r: r[\"name\"],list(cursor2))))"
   ]
  },
  {
   "cell_type": "markdown",
   "metadata": {},
   "source": [
    "### 3. All the companies founded between 2000 and 2005, both years included. Retrieve only the `name` and `founded_year` fileds."
   ]
  },
  {
   "cell_type": "code",
   "execution_count": 8,
   "metadata": {},
   "outputs": [
    {
     "name": "stdout",
     "output_type": "stream",
     "text": [
      "[['Zoho', 2005], ['Digg', 2004], ['Omnidrive', 2005], ['StumbleUpon', 2002], ['Gizmoz', 2003], ['Wetpaint', 2005], ['Helio', 2005], ['Plaxo', 2002], ['Technorati', 2002], ['AddThis', 2004], ['Facebook', 2004], ['Veoh', 2004], ['Jingle Networks', 2005], ['LifeLock', 2005], ['Wesabe', 2005], ['SmugMug', 2002], ['Meetup', 2002], ['Jangl SMS', 2005], ['Skype', 2003], ['Pando Networks', 2004]]\n"
     ]
    }
   ],
   "source": [
    "cursor3 = db.companies.find({\"$and\": [ { \"founded_year\": { \"$gt\": 1999 } }, { \"founded_year\": { \"$lt\": 2006 } } ] }).limit(20)\n",
    "print(list(map(lambda r: [r[\"name\"],r[\"founded_year\"]],list(cursor3))))"
   ]
  },
  {
   "cell_type": "markdown",
   "metadata": {},
   "source": [
    "### 4. All the companies that had a Valuation Amount of more than 100.000.000 and have been founded before 2010. Retrieve only the `name` and `ipo` fields."
   ]
  },
  {
   "cell_type": "code",
   "execution_count": 46,
   "metadata": {},
   "outputs": [
    {
     "name": "stdout",
     "output_type": "stream",
     "text": [
      "[['Twitter', {'valuation_amount': 18100000000, 'valuation_currency_code': 'USD', 'pub_year': 2013, 'pub_month': 11, 'pub_day': 7, 'stock_symbol': 'NYSE:TWTR'}], ['Facebook', {'valuation_amount': 104000000000, 'valuation_currency_code': 'USD', 'pub_year': 2012, 'pub_month': 5, 'pub_day': 18, 'stock_symbol': 'NASDAQ:FB'}], ['Yelp', {'valuation_amount': 1300000000, 'valuation_currency_code': 'USD', 'pub_year': 2012, 'pub_month': 3, 'pub_day': 2, 'stock_symbol': 'NYSE:YELP'}], ['LinkedIn', {'valuation_amount': 9310000000, 'valuation_currency_code': 'USD', 'pub_year': 2011, 'pub_month': 7, 'pub_day': 20, 'stock_symbol': 'NYSE:LNKD'}], ['Amazon', {'valuation_amount': 100000000000, 'valuation_currency_code': 'USD', 'pub_year': 1997, 'pub_month': 5, 'pub_day': None, 'stock_symbol': 'NASDAQ:AMZN'}], ['Brightcove', {'valuation_amount': 290000000, 'valuation_currency_code': 'USD', 'pub_year': 2012, 'pub_month': 2, 'pub_day': 17, 'stock_symbol': 'NASDAQ:BCOV'}], ['KIT digital', {'valuation_amount': 235000000, 'valuation_currency_code': 'USD', 'pub_year': 2010, 'pub_month': 7, 'pub_day': 27, 'stock_symbol': 'KITD'}], ['Nielsen', {'valuation_amount': 1600000000, 'valuation_currency_code': 'USD', 'pub_year': 2011, 'pub_month': 1, 'pub_day': 26, 'stock_symbol': 'NYSE:NLSN'}], ['OpenTable', {'valuation_amount': 1050000000, 'valuation_currency_code': 'USD', 'pub_year': 2009, 'pub_month': 5, 'pub_day': 21, 'stock_symbol': 'NASDAQ:OPEN'}], ['ChannelAdvisor', {'valuation_amount': 287000000, 'valuation_currency_code': 'USD', 'pub_year': 2013, 'pub_month': 5, 'pub_day': 23, 'stock_symbol': 'NYSE:ECOM'}], ['Jive Software', {'valuation_amount': 1000000000, 'valuation_currency_code': 'USD', 'pub_year': 2012, 'pub_month': 2, 'pub_day': 3, 'stock_symbol': 'NASDAQ:JIVE'}], ['Zillow', {'valuation_amount': 2550000000, 'valuation_currency_code': 'USD', 'pub_year': 2011, 'pub_month': 7, 'pub_day': 19, 'stock_symbol': 'NASDAQ:Z'}], ['Wix', {'valuation_amount': 750000000, 'valuation_currency_code': 'USD', 'pub_year': 2013, 'pub_month': 11, 'pub_day': 6, 'stock_symbol': 'NASDAQ:WIX'}], ['Shutterfly', {'valuation_amount': 350000000, 'valuation_currency_code': 'USD', 'pub_year': 2006, 'pub_month': 9, 'pub_day': 29, 'stock_symbol': 'SFLY'}], ['TripAdvisor', {'valuation_amount': 3273770000, 'valuation_currency_code': 'USD', 'pub_year': 2011, 'pub_month': 12, 'pub_day': 21, 'stock_symbol': 'TRIP'}], ['Salesforce', {'valuation_amount': 110000000, 'valuation_currency_code': 'USD', 'pub_year': 2004, 'pub_month': 7, 'pub_day': 2, 'stock_symbol': 'NYSE:CRM'}], ['HomeAway', {'valuation_amount': 3000000000, 'valuation_currency_code': 'USD', 'pub_year': 2011, 'pub_month': 6, 'pub_day': 29, 'stock_symbol': 'NASDAQ:AWAY'}], ['QuinStreet', {'valuation_amount': 140000000, 'valuation_currency_code': 'USD', 'pub_year': 2010, 'pub_month': 1, 'pub_day': 11, 'stock_symbol': 'NASDAQ:QNST'}], ['Rackspace', {'valuation_amount': 5440000000, 'valuation_currency_code': 'USD', 'pub_year': 2011, 'pub_month': 11, 'pub_day': 7, 'stock_symbol': 'RAX'}], ['BMC Software', {'valuation_amount': 6000000000, 'valuation_currency_code': 'USD', 'pub_year': 1988, 'pub_month': 8, 'pub_day': 12, 'stock_symbol': 'NASDAQ:BMC'}]]\n"
     ]
    }
   ],
   "source": [
    "cursor4 = db.companies.find({\"$and\": [ { \"ipo.valuation_amount\": {\"$gt\": 100000000} }, { \"founded_year\": { \"$lt\": 2010 } } ] }).limit(20)\n",
    "print(list(map(lambda r: [r[\"name\"],r[\"ipo\"]],list(cursor4))))"
   ]
  },
  {
   "cell_type": "markdown",
   "metadata": {},
   "source": [
    "### 5. All the companies that have less than 1000 employees and have been founded before 2005. Order them by the number of employees and limit the search to 10 companies."
   ]
  },
  {
   "cell_type": "code",
   "execution_count": 47,
   "metadata": {},
   "outputs": [
    {
     "name": "stdout",
     "output_type": "stream",
     "text": [
      "['Infinera Corporation', 'NorthPoint Communications Group', '888 Holdings', 'Forrester Research', 'SonicWALL', 'Webmetrics', 'Cornerstone OnDemand', 'Yelp', 'MySpace', 'ZoomInfo']\n"
     ]
    }
   ],
   "source": [
    "cursor5 = db.companies.find({\"$and\": [ { \"number_of_employees\": {\"$lt\": 1000} }, { \"founded_year\": { \"$lt\": 2005 } } ] }).sort(\"number_of_employees\", pymongo.DESCENDING).limit(10)\n",
    "print(list(map(lambda r: r[\"name\"],list(cursor5))))"
   ]
  },
  {
   "cell_type": "markdown",
   "metadata": {},
   "source": [
    "### 6. All the companies that don't include the `partners` field."
   ]
  },
  {
   "cell_type": "code",
   "execution_count": 12,
   "metadata": {},
   "outputs": [
    {
     "name": "stdout",
     "output_type": "stream",
     "text": [
      "[]\n"
     ]
    }
   ],
   "source": [
    "cursor6 = db.companies.find({\"partners\": {\"$exists\": False}})\n",
    "print(list(map(lambda r: r[\"name\"],list(cursor6))))"
   ]
  },
  {
   "cell_type": "markdown",
   "metadata": {},
   "source": [
    "### 7. All the companies that have a null type of value on the `category_code` field."
   ]
  },
  {
   "cell_type": "code",
   "execution_count": 16,
   "metadata": {},
   "outputs": [
    {
     "name": "stdout",
     "output_type": "stream",
     "text": [
      "['Collective', 'KoolIM', 'Snimmer', 'Level9 Media', 'VidKing', 'Drigg', 'SpaceTime', 'MMDAYS', 'Touch Clarity', 'Inside Group', 'Repeater Store', 'iPersians', 'NewPersia', 'Tapesh', 'Pyra Labs', 'Feedmap', 'NuvoMedia', 'Intwine', 'The Weinstein Company', 'ExecuNet']\n"
     ]
    }
   ],
   "source": [
    "cursor7 = db.companies.find({\"category_code\": None}).limit(20)\n",
    "print(list(map(lambda r: r[\"name\"],list(cursor7))))"
   ]
  },
  {
   "cell_type": "markdown",
   "metadata": {},
   "source": [
    "### 8. All the companies that have at least 100 employees but less than 1000. Retrieve only the `name` and `number of employees` fields."
   ]
  },
  {
   "cell_type": "code",
   "execution_count": 18,
   "metadata": {},
   "outputs": [
    {
     "name": "stdout",
     "output_type": "stream",
     "text": [
      "[['AdventNet', 600], ['AddThis', 120], ['OpenX', 305], ['LifeLock', 644], ['Livestream', 120], ['Ustream', 250], ['Jajah', 110], ['iContact', 300], ['Yelp', 800], ['Dailymotion', 120], ['RockYou', 106], ['Meebo', 200], ['Box', 950], ['Eventbrite', 200], ['Redfin', 100], ['Conduit', 215], ['oDesk', 120], ['Simply Hired', 100], ['PhotoBox', 600], ['Spreadshirt', 230]]\n"
     ]
    }
   ],
   "source": [
    "cursor8 = db.companies.find({\"$and\": [ { \"number_of_employees\": {\"$gte\": 100} }, { \"number_of_employees\": { \"$lt\": 1000 } } ] }).limit(20)\n",
    "print(list(map(lambda r: [r[\"name\"],r[\"number_of_employees\"]],list(cursor8))))"
   ]
  },
  {
   "cell_type": "markdown",
   "metadata": {},
   "source": [
    "### 9. Order all the companies by their IPO price descendently."
   ]
  },
  {
   "cell_type": "code",
   "execution_count": 22,
   "metadata": {},
   "outputs": [
    {
     "name": "stdout",
     "output_type": "stream",
     "text": [
      "['GREE', 'Facebook', 'Amazon', 'Twitter', 'Groupon', 'Tencent', 'Western Digital', 'LinkedIn', 'BMC Software', 'Rackspace', 'Baidu', 'TripAdvisor', 'HomeAway', 'Zillow', 'Nielsen', 'Yelp', 'Chegg', 'Chegg', 'RPX Corporation', 'Higher One']\n"
     ]
    }
   ],
   "source": [
    "cursor9 = db.companies.find().sort(\"ipo.valuation_amount\", pymongo.DESCENDING).limit(20)\n",
    "print(list(map(lambda r: r[\"name\"],list(cursor9))))"
   ]
  },
  {
   "cell_type": "markdown",
   "metadata": {},
   "source": [
    "### 10. Retrieve the 10 companies with more employees, order by the `number of employees`"
   ]
  },
  {
   "cell_type": "code",
   "execution_count": 21,
   "metadata": {},
   "outputs": [
    {
     "name": "stdout",
     "output_type": "stream",
     "text": [
      "['Siemens', 'IBM', 'Toyota', 'PayPal', 'Nippon Telegraph and Telephone Corporation', 'Samsung Electronics', 'Accenture', 'Tata Consultancy Services', 'Flextronics International', 'Safeway']\n"
     ]
    }
   ],
   "source": [
    "cursor10 = db.companies.find().sort(\"number_of_employees\", pymongo.DESCENDING).limit(10)\n",
    "print(list(map(lambda r: r[\"name\"],list(cursor10))))"
   ]
  },
  {
   "cell_type": "markdown",
   "metadata": {},
   "source": [
    "### 11. All the companies founded on the second semester of the year. Limit your search to 1000 companies."
   ]
  },
  {
   "cell_type": "code",
   "execution_count": 23,
   "metadata": {},
   "outputs": [
    {
     "name": "stdout",
     "output_type": "stream",
     "text": [
      "['Zoho', 'Digg', 'Omnidrive', 'Wetpaint', 'Joost', 'Plaxo', 'eBay', 'Powerset', 'Thoof', 'Jingle Networks', 'Kyte', 'LifeLock', 'Wesabe', 'SmugMug', 'Skype', 'Pando Networks', 'Ikan', 'delicious', 'AllPeers', 'Wize']\n"
     ]
    }
   ],
   "source": [
    "cursor11 = db.companies.find({\"founded_month\": {\"$gt\": 6}}).limit(20)\n",
    "print(list(map(lambda r: r[\"name\"],list(cursor11))))"
   ]
  },
  {
   "cell_type": "markdown",
   "metadata": {},
   "source": [
    "### 12. All the companies that have been 'deadpooled' after the third year."
   ]
  },
  {
   "cell_type": "code",
   "execution_count": null,
   "metadata": {},
   "outputs": [],
   "source": []
  },
  {
   "cell_type": "markdown",
   "metadata": {},
   "source": [
    "### 13. All the companies founded before 2000 that have and acquisition amount of more than 10.000.000"
   ]
  },
  {
   "cell_type": "code",
   "execution_count": 24,
   "metadata": {},
   "outputs": [
    {
     "name": "stdout",
     "output_type": "stream",
     "text": [
      "['Postini', 'SideStep', 'Recipezaar', 'PayPal', 'Snapfish', 'Neopets', 'Sun Microsystems', 'Zappos', 'Alibaba', 'Lastminute', 'Sabre', 'Sportsline', 'Webshots', 'Digitas', 'MIVA', 'iVillage', 'PriceGrabber', 'Kaboose', 'Fastclick', 'LinkShare']\n"
     ]
    }
   ],
   "source": [
    "cursor13 = db.companies.find({\"$and\": [ { \"founded_year\": {\"$lt\": 2000} }, { \"acquisition.price_amount\": { \"$gt\": 10000000 } } ] }).limit(20)\n",
    "print(list(map(lambda r: r[\"name\"],list(cursor13))))"
   ]
  },
  {
   "cell_type": "markdown",
   "metadata": {},
   "source": [
    "### 14. All the companies that have been acquired after 2015, order by the acquisition amount, and retrieve only their `name` and `acquisiton` field."
   ]
  },
  {
   "cell_type": "code",
   "execution_count": 50,
   "metadata": {},
   "outputs": [
    {
     "name": "stdout",
     "output_type": "stream",
     "text": [
      "[]\n"
     ]
    }
   ],
   "source": [
    "cursor14 = db.companies.find( {\"acquisitions.acquired_year\" : {\"$gt\": 2015} }).sort(\"acquisition.price_amount\", pymongo.DESCENDING).limit(20)\n",
    "print(list(map(lambda r: [r[\"name\"],r[\"acquisition.price_amount\"]],list(cursor14))))"
   ]
  },
  {
   "cell_type": "markdown",
   "metadata": {},
   "source": [
    "### 15. Order the companies by their `founded year`, retrieving only their `name` and `founded year`."
   ]
  },
  {
   "cell_type": "code",
   "execution_count": 27,
   "metadata": {},
   "outputs": [
    {
     "name": "stdout",
     "output_type": "stream",
     "text": [
      "[['Fixya', 2013], ['Wamba', 2013], ['Advaliant', 2013], ['Fluc', 2013], ['iBazar', 2013], ['Gimigo', 2013], ['SEOGroup', 2013], ['Clowdy', 2013], ['WhosCall', 2013], ['Pikk', 2013], ['Tongxue', 2013], ['Shopseen', 2013], ['VistaGen Therapeutics', 2013], ['PeekYou', 2012], ['headr', 2012], ['Pinger', 2012], ['Widgetbox', 2012], ['Mobiluck', 2012], ['Skydeck', 2012], ['Simplicant', 2012]]\n"
     ]
    }
   ],
   "source": [
    "cursor15 = db.companies.find().sort(\"founded_year\", pymongo.DESCENDING).limit(20)\n",
    "print(list(map(lambda r: [r[\"name\"],r[\"founded_year\"]],list(cursor15))))"
   ]
  },
  {
   "cell_type": "markdown",
   "metadata": {},
   "source": [
    "### 16. All the companies that have been founded on the first seven days of the month, including the seventh. Sort them by their `aquisition price` descendently. Limit the search to 10 documents."
   ]
  },
  {
   "cell_type": "code",
   "execution_count": 51,
   "metadata": {},
   "outputs": [
    {
     "name": "stdout",
     "output_type": "stream",
     "text": [
      "[]\n"
     ]
    }
   ],
   "source": [
    "cursor16 = db.companies.find( {\"founded_day.acquired_year\" : {\"$lte\": 7} }).sort(\"acquisition.price_amount\", pymongo.DESCENDING).limit(10)\n",
    "print(list(map(lambda r: r[\"name\"],list(cursor16))))"
   ]
  },
  {
   "cell_type": "markdown",
   "metadata": {},
   "source": [
    "### 17. All the companies on the 'web' `category` that have more than 4000 employees. Sort them by the amount of employees in ascendant order."
   ]
  },
  {
   "cell_type": "code",
   "execution_count": 29,
   "metadata": {},
   "outputs": [
    {
     "name": "stdout",
     "output_type": "stream",
     "text": [
      "['Expedia', 'AOL', 'Webkinz', 'Rakuten', 'Los Angeles Times Media Group', 'Groupon', 'Yahoo!', 'eBay', 'Experian']\n"
     ]
    }
   ],
   "source": [
    "cursor17 = db.companies.find({\"$and\": [ { \"category_code\": \"web\" }, { \"number_of_employees\": { \"$gt\": 4000 } } ] }).sort(\"number_of_employees\", pymongo.ASCENDING).limit(20)\n",
    "print(list(map(lambda r: r[\"name\"],list(cursor17))))"
   ]
  },
  {
   "cell_type": "markdown",
   "metadata": {},
   "source": [
    "### 18. All the companies which their acquisition amount is more than 10.000.000, and currency are 'EUR'."
   ]
  },
  {
   "cell_type": "code",
   "execution_count": 30,
   "metadata": {},
   "outputs": [
    {
     "name": "stdout",
     "output_type": "stream",
     "text": [
      "['ZYB', 'Apertio', 'Greenfield Online', 'Webedia', 'Wayfinder', 'Tuenti Technologies', 'BioMed Central']\n"
     ]
    }
   ],
   "source": [
    "cursor18 = db.companies.find({\"$and\": [ { \"acquisition.price_amount\": { \"$gt\": 10000000 } }, { \"acquisition.price_currency_code\": \"EUR\" } ] }).limit(20)\n",
    "print(list(map(lambda r: r[\"name\"],list(cursor18))))"
   ]
  },
  {
   "cell_type": "markdown",
   "metadata": {},
   "source": [
    "### 19. All the companies that have been acquired on the first trimester of the year. Limit the search to 10 companies, and retrieve only their `name` and `acquisition` fields."
   ]
  },
  {
   "cell_type": "code",
   "execution_count": 40,
   "metadata": {},
   "outputs": [
    {
     "name": "stdout",
     "output_type": "stream",
     "text": [
      "[['Kyte', {'price_amount': None, 'price_currency_code': 'USD', 'term_code': None, 'source_url': 'http://techcrunch.com/2011/01/31/exclusive-kit-digital-acquires-kickapps-kewego-and-kyte-for-77-2-million/', 'source_description': 'KIT digital Acquires KickApps, Kewego AND Kyte For $77.2 Million', 'acquired_year': 2011, 'acquired_month': 1, 'acquired_day': 31, 'acquiring_company': {'name': 'KIT digital', 'permalink': 'kit-digital'}}], ['NetRatings', {'price_amount': 327000000, 'price_currency_code': 'USD', 'term_code': 'cash', 'source_url': 'http://login.vnuemedia.com/hr/login/login_subscribe.jsp?id=0oqDem1gYIfIclz9i2%2Ffqj5NxCp2AC5DPbVnyT2da8GyV2mXjasabE128n69OrmcAh52%2FGE3pSG%2F%0AEKRYD9vh9EhrJrxukmUzh532fSMTZXL42gwPB80UWVtF1NwJ5UZSM%2BCkLU1mpYBoHFgiH%2Fi0f6Ax%0A9yMIVxt47t%2BHamhEQ0nkOEK24L', 'source_description': 'Nielsen buys rest of NetRatings', 'acquired_year': 2007, 'acquired_month': 2, 'acquired_day': None, 'acquiring_company': {'name': 'Nielsen', 'permalink': 'nielsen'}}], ['blogTV', {'price_amount': None, 'price_currency_code': 'USD', 'term_code': None, 'source_url': 'http://techcrunch.com/2013/03/13/younow-buys-blogtv/', 'source_description': 'Live Social Video Network YouNow Acquires Streaming Service BlogTV', 'acquired_year': 2013, 'acquired_month': 3, 'acquired_day': 13, 'acquiring_company': {'name': 'YouNow', 'permalink': 'younow'}}], ['Livestream', {'price_amount': None, 'price_currency_code': 'USD', 'term_code': 'cash_and_stock', 'source_url': '', 'source_description': 'company', 'acquired_year': 2008, 'acquired_month': 1, 'acquired_day': 1, 'acquiring_company': {'name': 'Adviqo', 'permalink': 'adviqo'}}], ['iContact', {'price_amount': 169000000, 'price_currency_code': 'USD', 'term_code': 'cash_and_stock', 'source_url': 'http://techcrunch.com/2012/02/28/vocus-buys-email-marketing-company-icontact-for-169-million/', 'source_description': 'Vocus Buys Email Marketing Company iContact For $169 Million', 'acquired_year': 2012, 'acquired_month': 2, 'acquired_day': 28, 'acquiring_company': {'name': 'Vocus', 'permalink': 'vocus'}}], ['Coghead', {'price_amount': None, 'price_currency_code': 'USD', 'term_code': None, 'source_url': 'http://www.techcrunch.com/2009/02/19/sap-acquires-cogheads-technology-as-it-looks-towards-the-cloud/', 'source_description': 'SAP Acquires Cogheadâ€™s Technology As It Looks Towards The Cloud', 'acquired_year': 2009, 'acquired_month': 2, 'acquired_day': 19, 'acquiring_company': {'name': 'SAP', 'permalink': 'sap'}}], ['Dailymotion', {'price_amount': 168000000, 'price_currency_code': 'USD', 'term_code': None, 'source_url': 'http://techcrunch.com/2013/02/22/orange-acquired-dailymotion-for-168-million-by-buying-out-the-remaining-51-stake/', 'source_description': 'Orange Acquired Dailymotion For $168 Million By Buying Out Remaining 51% Stake [Update: Orange Confirms]', 'acquired_year': 2013, 'acquired_month': 2, 'acquired_day': 22, 'acquiring_company': {'name': 'Orange', 'permalink': 'orange'}}], ['Netvibes', {'price_amount': None, 'price_currency_code': 'USD', 'term_code': None, 'source_url': 'http://www.marketwatch.com/story/dassault-systemes-acquires-netvibes-2012-02-09', 'source_description': 'Dassault Systemes Acquires Netvibes', 'acquired_year': 2012, 'acquired_month': 2, 'acquired_day': 9, 'acquiring_company': {'name': 'Dassault Systemes', 'permalink': 'dassault'}}], ['Flickr', {'price_amount': None, 'price_currency_code': 'USD', 'term_code': 'cash_and_stock', 'source_url': 'http://news.cnet.com/Yahoo-buys-photo-sharing-site-Flickr/2100-1038_3-5627640.html?tag=mncol;txt', 'source_description': 'CNET', 'acquired_year': 2005, 'acquired_month': 3, 'acquired_day': None, 'acquiring_company': {'name': 'Yahoo!', 'permalink': 'yahoo'}}], ['BabyCenter', {'price_amount': None, 'price_currency_code': 'USD', 'term_code': None, 'source_url': 'http://www.investor.jnj.com/releasedetail.cfm?releaseid=63836', 'source_description': 'Johnson & Johnson Acquires BabyCenter From eToys, Inc. Leading Online Destination for Parents Plans for Continued Expansion of Operations', 'acquired_year': 2001, 'acquired_month': 3, 'acquired_day': 2, 'acquiring_company': {'name': 'Johnson & Johnson', 'permalink': 'johnson-johnson'}}]]\n"
     ]
    }
   ],
   "source": [
    "cursor19 = db.companies.find( {\"acquisition.acquired_month\" : {\"$lt\":4} }).limit(10)\n",
    "print(list(map(lambda r: [r[\"name\"],r[\"acquisition\"]],list(cursor19))))"
   ]
  },
  {
   "cell_type": "markdown",
   "metadata": {},
   "source": [
    "### 20. All the companies that have been founded between 2000 and 2010, but have not been acquired before 2011."
   ]
  },
  {
   "cell_type": "code",
   "execution_count": 52,
   "metadata": {},
   "outputs": [
    {
     "name": "stdout",
     "output_type": "stream",
     "text": [
      "['Zoho', 'Digg', 'Geni', 'Omnidrive', 'Twitter', 'Slacker', 'Wetpaint', 'MeetMoi', 'Babelgum', 'Scribd', 'Technorati', 'AddThis', 'Facebook', 'Mahalo', 'Sparter', 'Thoof', 'Jingle Networks', 'Kyte', 'OpenX', 'LifeLock']\n"
     ]
    }
   ],
   "source": [
    "cursor20 = db.companies.find({\"$and\": [ { \"founded_year\": { \"$gte\": 2000 } }, { \"founded_year\": {\"$lte\": 2010} }, { \"acquisition.acquired_year\": {\"$not\": { \"$lt\": 2011 }} } ] }).limit(20)\n",
    "print(list(map(lambda r: r[\"name\"],list(cursor20))))"
   ]
  },
  {
   "cell_type": "code",
   "execution_count": null,
   "metadata": {},
   "outputs": [],
   "source": []
  }
 ],
 "metadata": {
  "kernelspec": {
   "display_name": "Python 3",
   "language": "python",
   "name": "python3"
  },
  "language_info": {
   "codemirror_mode": {
    "name": "ipython",
    "version": 3
   },
   "file_extension": ".py",
   "mimetype": "text/x-python",
   "name": "python",
   "nbconvert_exporter": "python",
   "pygments_lexer": "ipython3",
   "version": "3.7.2"
  }
 },
 "nbformat": 4,
 "nbformat_minor": 2
}
